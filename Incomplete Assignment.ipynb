{
 "cells": [
  {
   "cell_type": "code",
   "execution_count": 1,
   "metadata": {},
   "outputs": [
    {
     "name": "stderr",
     "output_type": "stream",
     "text": [
      "Enabling notebook extension jupyter-leaflet/extension...\n",
      "      - Validating: ok\n"
     ]
    }
   ],
   "source": [
    "'''!pip install ipyleaflet'''\n",
    "\n",
    "!jupyter nbextension enable --py --sys-prefix ipyleaflet"
   ]
  },
  {
   "cell_type": "code",
   "execution_count": 2,
   "metadata": {},
   "outputs": [],
   "source": [
    "import geopandas"
   ]
  },
  {
   "cell_type": "code",
   "execution_count": 3,
   "metadata": {},
   "outputs": [],
   "source": [
    "from ipyleaflet import (Map,DrawControl)"
   ]
  },
  {
   "cell_type": "code",
   "execution_count": 5,
   "metadata": {},
   "outputs": [
    {
     "data": {
      "application/vnd.jupyter.widget-view+json": {
       "model_id": "563da835a88843ae86c3f9f693c1794b",
       "version_major": 2,
       "version_minor": 0
      },
      "text/plain": [
       "Map(basemap={'url': 'https://{s}.tile.openstreetmap.org/{z}/{x}/{y}.png', 'max_zoom': 19, 'attribution': 'Map …"
      ]
     },
     "metadata": {},
     "output_type": "display_data"
    }
   ],
   "source": [
    "mapp = Map(center=[20.5937, 78.9629],zoom = 10)\n",
    "dc = DrawControl(circle={'shapeoptions':{'color':'#0000FF'}})\n",
    "mapp.add_control(dc)\n",
    "mapp"
   ]
  },
  {
   "cell_type": "code",
   "execution_count": null,
   "metadata": {},
   "outputs": [],
   "source": [
    "### I didn't had PostgreSQL. After installing I was unable to create new server in it, as it was showing some error. \n",
    "# So, I couldn't install the PostGIS extension in it. \n",
    "# I have installed geopandas, but it is not used because I was unable to install PostGIS.\n",
    "### Because of that I could not create the data bases of the 3 datasets provided.\n",
    "### Main problem was there with PostgreSQL installation. I need some help in that."
   ]
  }
 ],
 "metadata": {
  "kernelspec": {
   "display_name": "Python 3",
   "language": "python",
   "name": "python3"
  },
  "language_info": {
   "codemirror_mode": {
    "name": "ipython",
    "version": 3
   },
   "file_extension": ".py",
   "mimetype": "text/x-python",
   "name": "python",
   "nbconvert_exporter": "python",
   "pygments_lexer": "ipython3",
   "version": "3.7.0"
  }
 },
 "nbformat": 4,
 "nbformat_minor": 2
}
